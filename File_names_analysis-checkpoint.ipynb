{
 "cells": [
  {
   "cell_type": "code",
   "execution_count": 134,
   "metadata": {},
   "outputs": [],
   "source": [
    "import pandas as pd\n",
    "import seaborn as sns\n",
    "from IPython.display import display, Markdown, Latex\n",
    "#display(Markdown('# some markdown $\\phi$'))\n",
    "# If you particularly want to display maths, this is more direct:\n",
    "#display(Latex('\\phi'))\n",
    "import itertools"
   ]
  },
  {
   "cell_type": "markdown",
   "metadata": {},
   "source": [
    "# Analysis of Files for NIH data retrieval"
   ]
  },
  {
   "cell_type": "markdown",
   "metadata": {},
   "source": [
    "## First we will get the list from Dr. Boyd \n",
    "- this is the one with 3 columns not the one with colors that is more recent\n",
    "- Lets look at the first few lines:"
   ]
  },
  {
   "cell_type": "code",
   "execution_count": 76,
   "metadata": {},
   "outputs": [
    {
     "data": {
      "text/html": [
       "<div>\n",
       "<style scoped>\n",
       "    .dataframe tbody tr th:only-of-type {\n",
       "        vertical-align: middle;\n",
       "    }\n",
       "\n",
       "    .dataframe tbody tr th {\n",
       "        vertical-align: top;\n",
       "    }\n",
       "\n",
       "    .dataframe thead th {\n",
       "        text-align: right;\n",
       "    }\n",
       "</style>\n",
       "<table border=\"1\" class=\"dataframe\">\n",
       "  <thead>\n",
       "    <tr style=\"text-align: right;\">\n",
       "      <th></th>\n",
       "      <th>Kids First ID</th>\n",
       "      <th>Metopic</th>\n",
       "    </tr>\n",
       "  </thead>\n",
       "  <tbody>\n",
       "    <tr>\n",
       "      <td>0</td>\n",
       "      <td>1130_1</td>\n",
       "      <td>metopic</td>\n",
       "    </tr>\n",
       "    <tr>\n",
       "      <td>1</td>\n",
       "      <td>1130_2</td>\n",
       "      <td>U</td>\n",
       "    </tr>\n",
       "    <tr>\n",
       "      <td>2</td>\n",
       "      <td>1130_3</td>\n",
       "      <td>metopic</td>\n",
       "    </tr>\n",
       "    <tr>\n",
       "      <td>3</td>\n",
       "      <td>1225_1</td>\n",
       "      <td>metopic</td>\n",
       "    </tr>\n",
       "    <tr>\n",
       "      <td>4</td>\n",
       "      <td>1225_2</td>\n",
       "      <td>U</td>\n",
       "    </tr>\n",
       "  </tbody>\n",
       "</table>\n",
       "</div>"
      ],
      "text/plain": [
       "  Kids First ID  Metopic\n",
       "0        1130_1  metopic\n",
       "1        1130_2        U\n",
       "2        1130_3  metopic\n",
       "3        1225_1  metopic\n",
       "4        1225_2        U"
      ]
     },
     "execution_count": 76,
     "metadata": {},
     "output_type": "execute_result"
    }
   ],
   "source": [
    "boyd = pd.read_csv('boyd_list.tsv', sep=\"\\t\")\n",
    "\n",
    "boyd.head()"
   ]
  },
  {
   "cell_type": "code",
   "execution_count": 126,
   "metadata": {
    "scrolled": true
   },
   "outputs": [
    {
     "name": "stdout",
     "output_type": "stream",
     "text": [
      "228\n",
      "228\n"
     ]
    }
   ],
   "source": [
    "print(len(boyd))\n",
    "# lets make sure all are in a similar format with _ in the id vs - as well as remove extra spaces\n",
    "boyd['Kids First ID'] = [i.replace(\"-\", \"_\").replace(' ','') for i in boyd['Kids First ID'].to_list()]\n",
    "print(len(set(boyd['Kids First ID'])))"
   ]
  },
  {
   "cell_type": "markdown",
   "metadata": {},
   "source": [
    "- we see it has a length of 228 as well as 228 unique IDs which checks out\n",
    "\n",
    "---"
   ]
  },
  {
   "cell_type": "markdown",
   "metadata": {},
   "source": [
    "## Next we will get the file from Dr. Justice that contains 884 original successful runs and 45 from 2nd round of sequencing (from the extra tab in the excel file):\n",
    "- Here the `ucd_id` is the column of interest and we would like all the other columns for Brian that are contained in the list from boyd retrieved above. "
   ]
  },
  {
   "cell_type": "code",
   "execution_count": 78,
   "metadata": {},
   "outputs": [
    {
     "data": {
      "text/html": [
       "<div>\n",
       "<style scoped>\n",
       "    .dataframe tbody tr th:only-of-type {\n",
       "        vertical-align: middle;\n",
       "    }\n",
       "\n",
       "    .dataframe tbody tr th {\n",
       "        vertical-align: top;\n",
       "    }\n",
       "\n",
       "    .dataframe thead th {\n",
       "        text-align: right;\n",
       "    }\n",
       "</style>\n",
       "<table border=\"1\" class=\"dataframe\">\n",
       "  <thead>\n",
       "    <tr style=\"text-align: right;\">\n",
       "      <th></th>\n",
       "      <th>specimen_id</th>\n",
       "      <th>cavatica_id</th>\n",
       "      <th>library_id</th>\n",
       "      <th>ucd_id</th>\n",
       "      <th>father</th>\n",
       "      <th>mother</th>\n",
       "      <th>sex</th>\n",
       "      <th>aff</th>\n",
       "    </tr>\n",
       "  </thead>\n",
       "  <tbody>\n",
       "    <tr>\n",
       "      <td>0</td>\n",
       "      <td>5136-SB-0006</td>\n",
       "      <td>5d826033e4b0950c3fd90e83</td>\n",
       "      <td>SL340228</td>\n",
       "      <td>8013_3</td>\n",
       "      <td>0</td>\n",
       "      <td>0</td>\n",
       "      <td>1.0</td>\n",
       "      <td>U</td>\n",
       "    </tr>\n",
       "    <tr>\n",
       "      <td>1</td>\n",
       "      <td>5136-SB-0013</td>\n",
       "      <td>5d82602fe4b0950c3fd8e2c1</td>\n",
       "      <td>SL340235</td>\n",
       "      <td>8049_1</td>\n",
       "      <td>8049_3</td>\n",
       "      <td>8049_2</td>\n",
       "      <td>1.0</td>\n",
       "      <td>metopic</td>\n",
       "    </tr>\n",
       "    <tr>\n",
       "      <td>2</td>\n",
       "      <td>5136-SB-0015</td>\n",
       "      <td>5d826033e4b0950c3fd90e67</td>\n",
       "      <td>SL340237</td>\n",
       "      <td>8049_3</td>\n",
       "      <td>0</td>\n",
       "      <td>0</td>\n",
       "      <td>1.0</td>\n",
       "      <td>U</td>\n",
       "    </tr>\n",
       "    <tr>\n",
       "      <td>3</td>\n",
       "      <td>5136-SB-0017</td>\n",
       "      <td>5d82602fe4b0950c3fd8e7d0</td>\n",
       "      <td>SL340239</td>\n",
       "      <td>8051_2</td>\n",
       "      <td>0</td>\n",
       "      <td>0</td>\n",
       "      <td>2.0</td>\n",
       "      <td>U</td>\n",
       "    </tr>\n",
       "    <tr>\n",
       "      <td>4</td>\n",
       "      <td>5136-SB-0020</td>\n",
       "      <td>5d82602fe4b0950c3fd8e7e6</td>\n",
       "      <td>SL340242</td>\n",
       "      <td>8054_2</td>\n",
       "      <td>0</td>\n",
       "      <td>0</td>\n",
       "      <td>2.0</td>\n",
       "      <td>U</td>\n",
       "    </tr>\n",
       "  </tbody>\n",
       "</table>\n",
       "</div>"
      ],
      "text/plain": [
       "    specimen_id               cavatica_id library_id  ucd_id  father  mother  \\\n",
       "0  5136-SB-0006  5d826033e4b0950c3fd90e83   SL340228  8013_3       0       0   \n",
       "1  5136-SB-0013  5d82602fe4b0950c3fd8e2c1   SL340235  8049_1  8049_3  8049_2   \n",
       "2  5136-SB-0015  5d826033e4b0950c3fd90e67   SL340237  8049_3       0       0   \n",
       "3  5136-SB-0017  5d82602fe4b0950c3fd8e7d0   SL340239  8051_2       0       0   \n",
       "4  5136-SB-0020  5d82602fe4b0950c3fd8e7e6   SL340242  8054_2       0       0   \n",
       "\n",
       "   sex      aff  \n",
       "0  1.0        U  \n",
       "1  1.0  metopic  \n",
       "2  1.0        U  \n",
       "3  2.0        U  \n",
       "4  2.0        U  "
      ]
     },
     "execution_count": 78,
     "metadata": {},
     "output_type": "execute_result"
    }
   ],
   "source": [
    "nih_all = pd.read_csv('884and45.tsv', sep=\"\\t\")\n",
    "nih_all.head()"
   ]
  },
  {
   "cell_type": "code",
   "execution_count": 123,
   "metadata": {},
   "outputs": [
    {
     "name": "stdout",
     "output_type": "stream",
     "text": [
      "929\n",
      "929\n"
     ]
    }
   ],
   "source": [
    "print(len(nih_all))\n",
    "# lets make sure all are in a similar format with _ in the id vs - as well as remove extra spaces\n",
    "nih_all['ucd_id'] = [i.replace(\"-\", \"_\").replace(' ','') for i in nih_all['ucd_id'].to_list()]\n",
    "print(len(set(nih_all['ucd_id'])))"
   ]
  },
  {
   "cell_type": "markdown",
   "metadata": {},
   "source": [
    "- so we get 929 which matches 884 + 45 as expected\n",
    "- in addition all of values of ucd_id are unique which is good and expected.\n",
    "\n",
    "---\n"
   ]
  },
  {
   "cell_type": "markdown",
   "metadata": {},
   "source": [
    "## So now that these two data are assesed and cleaned lets compare \n",
    "- the items we would like the retrieve from the `boyd` list of `Kids First Id`"
   ]
  },
  {
   "cell_type": "code",
   "execution_count": 80,
   "metadata": {},
   "outputs": [],
   "source": [
    "boolean_series = nih_all.ucd_id.isin(boyd['Kids First ID'].to_list())\n",
    "filtered_df = nih_all[boolean_series]"
   ]
  },
  {
   "cell_type": "code",
   "execution_count": 125,
   "metadata": {},
   "outputs": [
    {
     "name": "stdout",
     "output_type": "stream",
     "text": [
      "227\n",
      "228\n",
      "929\n"
     ]
    }
   ],
   "source": [
    "print(len(filtered_df))\n",
    "print(len(set(boyd['Kids First ID'].to_list())))\n",
    "print(len(set(nih_all['ucd_id'].to_list())))"
   ]
  },
  {
   "cell_type": "code",
   "execution_count": 149,
   "metadata": {},
   "outputs": [
    {
     "data": {
      "text/markdown": [
       "#### Boyd file - NIH 884 and 45:"
      ],
      "text/plain": [
       "<IPython.core.display.Markdown object>"
      ]
     },
     "metadata": {},
     "output_type": "display_data"
    },
    {
     "name": "stdout",
     "output_type": "stream",
     "text": [
      "{'65trios(2multi),10duos,5probands'}\n"
     ]
    },
    {
     "data": {
      "text/markdown": [
       "#### Boyd file - Filtered (all the value in Boyd file that are in NIH file)"
      ],
      "text/plain": [
       "<IPython.core.display.Markdown object>"
      ]
     },
     "metadata": {},
     "output_type": "display_data"
    },
    {
     "name": "stdout",
     "output_type": "stream",
     "text": [
      "{'65trios(2multi),10duos,5probands'}\n"
     ]
    },
    {
     "data": {
      "text/markdown": [
       "- we see the only difference between file is the value at the end of the file summarizing the groups in the file :) (in column `ucd_id`)"
      ],
      "text/plain": [
       "<IPython.core.display.Markdown object>"
      ]
     },
     "metadata": {},
     "output_type": "display_data"
    },
    {
     "data": {
      "text/markdown": [
       "#### Filtered - NIH file"
      ],
      "text/plain": [
       "<IPython.core.display.Markdown object>"
      ]
     },
     "metadata": {},
     "output_type": "display_data"
    },
    {
     "name": "stdout",
     "output_type": "stream",
     "text": [
      "set()\n"
     ]
    },
    {
     "data": {
      "text/markdown": [
       "- there should not be any values in filter not in NIH (obviously)"
      ],
      "text/plain": [
       "<IPython.core.display.Markdown object>"
      ]
     },
     "metadata": {},
     "output_type": "display_data"
    }
   ],
   "source": [
    "\n",
    "display(Markdown(\"#### Boyd file - NIH 884 and 45:\"))\n",
    "print(set(boyd['Kids First ID'].to_list())-set(nih_all['ucd_id'].to_list()))\n",
    "\n",
    "display(Markdown(\"#### Boyd file - Filtered (all the value in Boyd file that are in NIH file)\"))\n",
    "print(set(boyd['Kids First ID'].to_list())-set(filtered_df['ucd_id'].to_list()))\n",
    "display(Markdown(\"- we see the only difference between file is the value at the end of the file summarizing the groups in the file :) (in column `ucd_id`)\"))\n",
    "      \n",
    "display(Markdown(\"#### Filtered - NIH file\"))\n",
    "print(set(filtered_df['ucd_id'].to_list())-set(nih_all['ucd_id'].to_list()))\n",
    "display(Markdown(\"- there should not be any values in filter not in NIH (obviously)\"))\n",
    "\n",
    "#set(nih_all['ucd_id'].to_list())-set(boyd['Kids First ID'].to_list())"
   ]
  },
  {
   "cell_type": "markdown",
   "metadata": {},
   "source": [
    "Looks great! We see there is only a difference in one value in length. This is just due to the summary line.\n",
    "\n",
    "---"
   ]
  },
  {
   "cell_type": "markdown",
   "metadata": {},
   "source": [
    "## So now that these three data are assesed and cleaned lets compare to the dataset Dr. Boyd send today (the excel file that was colored. \n",
    "- we have now determined that the `filterd_df` object is the proper information to use moving forward. \n",
    "- lets save the file and call it `filtered_SLID_DRC_ID2.tsv`"
   ]
  },
  {
   "cell_type": "markdown",
   "metadata": {},
   "source": [
    "filtered_df.to_csv(\"filtered_SLID_DRC_ID2.tsv\", sep=\"\\t\")"
   ]
  },
  {
   "cell_type": "code",
   "execution_count": 86,
   "metadata": {},
   "outputs": [
    {
     "data": {
      "text/html": [
       "<div>\n",
       "<style scoped>\n",
       "    .dataframe tbody tr th:only-of-type {\n",
       "        vertical-align: middle;\n",
       "    }\n",
       "\n",
       "    .dataframe tbody tr th {\n",
       "        vertical-align: top;\n",
       "    }\n",
       "\n",
       "    .dataframe thead th {\n",
       "        text-align: right;\n",
       "    }\n",
       "</style>\n",
       "<table border=\"1\" class=\"dataframe\">\n",
       "  <thead>\n",
       "    <tr style=\"text-align: right;\">\n",
       "      <th></th>\n",
       "      <th>specimen_id</th>\n",
       "      <th>cavatica_id</th>\n",
       "      <th>library_id</th>\n",
       "      <th>ucd_id</th>\n",
       "      <th>father</th>\n",
       "      <th>mother</th>\n",
       "      <th>sex</th>\n",
       "      <th>aff</th>\n",
       "    </tr>\n",
       "  </thead>\n",
       "  <tbody>\n",
       "    <tr>\n",
       "      <td>0</td>\n",
       "      <td>5136-SB-0006</td>\n",
       "      <td>5d826033e4b0950c3fd90e83</td>\n",
       "      <td>SL340228</td>\n",
       "      <td>8013_3</td>\n",
       "      <td>0</td>\n",
       "      <td>0</td>\n",
       "      <td>1.0</td>\n",
       "      <td>U</td>\n",
       "    </tr>\n",
       "    <tr>\n",
       "      <td>1</td>\n",
       "      <td>5136-SB-0013</td>\n",
       "      <td>5d82602fe4b0950c3fd8e2c1</td>\n",
       "      <td>SL340235</td>\n",
       "      <td>8049_1</td>\n",
       "      <td>8049_3</td>\n",
       "      <td>8049_2</td>\n",
       "      <td>1.0</td>\n",
       "      <td>metopic</td>\n",
       "    </tr>\n",
       "    <tr>\n",
       "      <td>2</td>\n",
       "      <td>5136-SB-0015</td>\n",
       "      <td>5d826033e4b0950c3fd90e67</td>\n",
       "      <td>SL340237</td>\n",
       "      <td>8049_3</td>\n",
       "      <td>0</td>\n",
       "      <td>0</td>\n",
       "      <td>1.0</td>\n",
       "      <td>U</td>\n",
       "    </tr>\n",
       "    <tr>\n",
       "      <td>3</td>\n",
       "      <td>5136-SB-0017</td>\n",
       "      <td>5d82602fe4b0950c3fd8e7d0</td>\n",
       "      <td>SL340239</td>\n",
       "      <td>8051_2</td>\n",
       "      <td>0</td>\n",
       "      <td>0</td>\n",
       "      <td>2.0</td>\n",
       "      <td>U</td>\n",
       "    </tr>\n",
       "    <tr>\n",
       "      <td>6</td>\n",
       "      <td>5136-SB-0022</td>\n",
       "      <td>5d82602fe4b0950c3fd8e2c7</td>\n",
       "      <td>SL340244</td>\n",
       "      <td>8057_1</td>\n",
       "      <td>8057_3</td>\n",
       "      <td>8057_2</td>\n",
       "      <td>1.0</td>\n",
       "      <td>metopic</td>\n",
       "    </tr>\n",
       "  </tbody>\n",
       "</table>\n",
       "</div>"
      ],
      "text/plain": [
       "    specimen_id               cavatica_id library_id  ucd_id  father  mother  \\\n",
       "0  5136-SB-0006  5d826033e4b0950c3fd90e83   SL340228  8013_3       0       0   \n",
       "1  5136-SB-0013  5d82602fe4b0950c3fd8e2c1   SL340235  8049_1  8049_3  8049_2   \n",
       "2  5136-SB-0015  5d826033e4b0950c3fd90e67   SL340237  8049_3       0       0   \n",
       "3  5136-SB-0017  5d82602fe4b0950c3fd8e7d0   SL340239  8051_2       0       0   \n",
       "6  5136-SB-0022  5d82602fe4b0950c3fd8e2c7   SL340244  8057_1  8057_3  8057_2   \n",
       "\n",
       "   sex      aff  \n",
       "0  1.0        U  \n",
       "1  1.0  metopic  \n",
       "2  1.0        U  \n",
       "3  2.0        U  \n",
       "6  1.0  metopic  "
      ]
     },
     "execution_count": 86,
     "metadata": {},
     "output_type": "execute_result"
    }
   ],
   "source": [
    "filtered_df.head()"
   ]
  },
  {
   "cell_type": "markdown",
   "metadata": {},
   "source": [
    "- so now lets compare that to the dataset from Dr. Boyd (the colored one)"
   ]
  },
  {
   "cell_type": "code",
   "execution_count": 156,
   "metadata": {},
   "outputs": [],
   "source": [
    "comp_met = pd.read_csv('complete_metopic.tsv', sep='\\t')\n",
    "# lets make sure all are in a similar format with _ in the id vs - as well as remove extra spaces\n",
    "comp_met['Individual'] = [i.replace('-','_').replace(' ', '') for i in comp_met['Individual']]"
   ]
  },
  {
   "cell_type": "code",
   "execution_count": 157,
   "metadata": {},
   "outputs": [
    {
     "data": {
      "text/html": [
       "<div>\n",
       "<style scoped>\n",
       "    .dataframe tbody tr th:only-of-type {\n",
       "        vertical-align: middle;\n",
       "    }\n",
       "\n",
       "    .dataframe tbody tr th {\n",
       "        vertical-align: top;\n",
       "    }\n",
       "\n",
       "    .dataframe thead th {\n",
       "        text-align: right;\n",
       "    }\n",
       "</style>\n",
       "<table border=\"1\" class=\"dataframe\">\n",
       "  <thead>\n",
       "    <tr style=\"text-align: right;\">\n",
       "      <th></th>\n",
       "      <th>DRC_ID</th>\n",
       "      <th>SLID</th>\n",
       "      <th>Family</th>\n",
       "      <th>Individual</th>\n",
       "      <th>Father</th>\n",
       "      <th>Mother</th>\n",
       "      <th>Sex</th>\n",
       "      <th>Affected_status</th>\n",
       "    </tr>\n",
       "  </thead>\n",
       "  <tbody>\n",
       "    <tr>\n",
       "      <td>0</td>\n",
       "      <td>5136-SB-0678</td>\n",
       "      <td>SL331500</td>\n",
       "      <td>1130</td>\n",
       "      <td>1130_1</td>\n",
       "      <td>1130_3</td>\n",
       "      <td>1130_2</td>\n",
       "      <td>1</td>\n",
       "      <td>metopic</td>\n",
       "    </tr>\n",
       "    <tr>\n",
       "      <td>1</td>\n",
       "      <td>5136-SB-0679</td>\n",
       "      <td>SL331501</td>\n",
       "      <td>1130</td>\n",
       "      <td>1130_2</td>\n",
       "      <td>0</td>\n",
       "      <td>0</td>\n",
       "      <td>2</td>\n",
       "      <td>U</td>\n",
       "    </tr>\n",
       "    <tr>\n",
       "      <td>2</td>\n",
       "      <td>5136-SB-0680</td>\n",
       "      <td>SL331502</td>\n",
       "      <td>1130</td>\n",
       "      <td>1130_3</td>\n",
       "      <td>0</td>\n",
       "      <td>0</td>\n",
       "      <td>1</td>\n",
       "      <td>metopic</td>\n",
       "    </tr>\n",
       "    <tr>\n",
       "      <td>3</td>\n",
       "      <td>5136-SB-0663</td>\n",
       "      <td>SL331485</td>\n",
       "      <td>1225</td>\n",
       "      <td>1225_1</td>\n",
       "      <td>1225_3</td>\n",
       "      <td>1225_2</td>\n",
       "      <td>1</td>\n",
       "      <td>metopic</td>\n",
       "    </tr>\n",
       "    <tr>\n",
       "      <td>4</td>\n",
       "      <td>5136-SB-0664</td>\n",
       "      <td>SL331486</td>\n",
       "      <td>1225</td>\n",
       "      <td>1225_2</td>\n",
       "      <td>0</td>\n",
       "      <td>0</td>\n",
       "      <td>2</td>\n",
       "      <td>U</td>\n",
       "    </tr>\n",
       "  </tbody>\n",
       "</table>\n",
       "</div>"
      ],
      "text/plain": [
       "         DRC_ID      SLID  Family Individual  Father  Mother Sex  \\\n",
       "0  5136-SB-0678  SL331500    1130     1130_1  1130_3  1130_2   1   \n",
       "1  5136-SB-0679  SL331501    1130     1130_2       0       0   2   \n",
       "2  5136-SB-0680  SL331502    1130     1130_3       0       0   1   \n",
       "3  5136-SB-0663  SL331485    1225     1225_1  1225_3  1225_2   1   \n",
       "4  5136-SB-0664  SL331486    1225     1225_2       0       0   2   \n",
       "\n",
       "  Affected_status  \n",
       "0         metopic  \n",
       "1               U  \n",
       "2         metopic  \n",
       "3         metopic  \n",
       "4               U  "
      ]
     },
     "execution_count": 157,
     "metadata": {},
     "output_type": "execute_result"
    }
   ],
   "source": [
    "comp_met.head()"
   ]
  },
  {
   "cell_type": "code",
   "execution_count": 190,
   "metadata": {},
   "outputs": [
    {
     "name": "stdout",
     "output_type": "stream",
     "text": [
      "230\n",
      "229\n",
      "(2, '11004_1_osteo')\n",
      "1\n"
     ]
    }
   ],
   "source": [
    "print(len(comp_met['Individual']))\n",
    "print(len(set(comp_met['Individual'])))\n",
    "import collections\n",
    "count_dic = {}\n",
    "for item in comp_met['Individual']:\n",
    "    if item in count_dic.keys():\n",
    "        count_dic[item] += 1\n",
    "    else:\n",
    "        count_dic[item] = 1\n",
    "        \n",
    "print(sorted((count_dic[item], item) for item in count_dic)[-1])\n",
    "print(count_dic['1269_4'])"
   ]
  },
  {
   "cell_type": "markdown",
   "metadata": {},
   "source": [
    "- so we see that all values in the file comp metadata are unique except for `11004_1_osteo` which is in the new colored file twice and is for a good reason\n",
    "- But this value 230 is different then the filtered length so lets see where this goes wrong and it is of note that now we can treat this `comp_met` file as the superior source thus far. \n",
    "\n",
    "---"
   ]
  },
  {
   "cell_type": "code",
   "execution_count": 193,
   "metadata": {},
   "outputs": [
    {
     "data": {
      "text/markdown": [
       "#### New Dr. Boyd file with colors - Filtered dataset from previous steps"
      ],
      "text/plain": [
       "<IPython.core.display.Markdown object>"
      ]
     },
     "metadata": {},
     "output_type": "display_data"
    },
    {
     "name": "stdout",
     "output_type": "stream",
     "text": [
      "{'1269_4', '11004_1_osteo'}\n"
     ]
    },
    {
     "data": {
      "text/markdown": [
       "####  Filtered dataset from previous steps - New Dr. Boyd file with colors"
      ],
      "text/plain": [
       "<IPython.core.display.Markdown object>"
      ]
     },
     "metadata": {},
     "output_type": "display_data"
    },
    {
     "name": "stdout",
     "output_type": "stream",
     "text": [
      "set()\n"
     ]
    }
   ],
   "source": [
    "display(Markdown(\"#### New Dr. Boyd file with colors - Filtered dataset from previous steps\"))\n",
    "print(set(comp_met['Individual'].to_list()) - set(filtered_df['ucd_id'].to_list()))\n",
    "\n",
    "display(Markdown(\"####  Filtered dataset from previous steps - New Dr. Boyd file with colors\"))\n",
    "print(set(filtered_df['ucd_id'].to_list()) -set(comp_met['Individual'].to_list()))"
   ]
  },
  {
   "cell_type": "markdown",
   "metadata": {},
   "source": [
    "So now we need some follow. Lets go back to the NIH file and get the difference just to make sure they are all the same"
   ]
  },
  {
   "cell_type": "code",
   "execution_count": 195,
   "metadata": {},
   "outputs": [
    {
     "data": {
      "text/markdown": [
       "####  Colored file - NIH file"
      ],
      "text/plain": [
       "<IPython.core.display.Markdown object>"
      ]
     },
     "metadata": {},
     "output_type": "display_data"
    },
    {
     "name": "stdout",
     "output_type": "stream",
     "text": [
      "set()\n"
     ]
    }
   ],
   "source": [
    "display(Markdown(\"####  Colored file - NIH file\"))\n",
    "print(set(comp_met['Individual'].to_list()) - set(nih_all['ucd_id'].to_list()))"
   ]
  },
  {
   "cell_type": "code",
   "execution_count": null,
   "metadata": {},
   "outputs": [],
   "source": []
  },
  {
   "cell_type": "markdown",
   "metadata": {},
   "source": [
    "---\n",
    "\n",
    "# Summary\n",
    "- overall we see that the only difference to be concerned from moving forward is that there are two entries for `11004_1_osteo`\n",
    "     - This is due to the following: There are two samples 11004_1 osteo – we provided DNA extracted from osteoblasts culture from the affected suture to compare with variants from blood derived DNA in order to search for possible somatic mosaicism as a cause of craniosynostosis. The osteo sample was sequenced twice to ensure 60X depth. Does this make sense?\n",
    "\n",
    "- we see that entry `1269_4` is present in the file given by Dr. Boyd (with the colors) but not present in the previous filtered file so now that shoudl be our more updated file to use \n",
    "\n",
    "- Lets make sure that the values for IDs in the NIH servers all match:"
   ]
  },
  {
   "cell_type": "code",
   "execution_count": 225,
   "metadata": {},
   "outputs": [
    {
     "name": "stdout",
     "output_type": "stream",
     "text": [
      "229\n",
      "229\n",
      "229\n",
      "230\n"
     ]
    }
   ],
   "source": [
    "new_boolean_series = nih_all.ucd_id.isin(comp_met['Individual'].to_list())\n",
    "new_filtered_df = nih_all[new_boolean_series]\n",
    "print(len(new_filtered_df))\n",
    "print(len(set(new_filtered_df['ucd_id'])))\n",
    "\n",
    "# same because the two 11004_1 entries\n",
    "print(len(set(comp_met['Individual'])))\n",
    "print(len(comp_met['Individual']))"
   ]
  },
  {
   "cell_type": "markdown",
   "metadata": {},
   "source": [
    "- all values are unique which is good"
   ]
  },
  {
   "cell_type": "code",
   "execution_count": 204,
   "metadata": {},
   "outputs": [
    {
     "name": "stdout",
     "output_type": "stream",
     "text": [
      "set()\n",
      "set()\n"
     ]
    }
   ],
   "source": [
    "print(set(comp_met['Individual']) - set(new_filtered_df['ucd_id']))\n",
    "print(set(new_filtered_df['ucd_id']) - set(comp_met['Individual']))"
   ]
  },
  {
   "cell_type": "markdown",
   "metadata": {},
   "source": [
    "- so we see the only difference is the duplicate entry for `11004_1_osteo`\n",
    "\n",
    "### Double check the IDs (SLID and DRCID)"
   ]
  },
  {
   "cell_type": "code",
   "execution_count": 206,
   "metadata": {},
   "outputs": [
    {
     "data": {
      "text/html": [
       "<div>\n",
       "<style scoped>\n",
       "    .dataframe tbody tr th:only-of-type {\n",
       "        vertical-align: middle;\n",
       "    }\n",
       "\n",
       "    .dataframe tbody tr th {\n",
       "        vertical-align: top;\n",
       "    }\n",
       "\n",
       "    .dataframe thead th {\n",
       "        text-align: right;\n",
       "    }\n",
       "</style>\n",
       "<table border=\"1\" class=\"dataframe\">\n",
       "  <thead>\n",
       "    <tr style=\"text-align: right;\">\n",
       "      <th></th>\n",
       "      <th>DRC_ID</th>\n",
       "      <th>SLID</th>\n",
       "      <th>Family</th>\n",
       "      <th>Individual</th>\n",
       "      <th>Father</th>\n",
       "      <th>Mother</th>\n",
       "      <th>Sex</th>\n",
       "      <th>Affected_status</th>\n",
       "    </tr>\n",
       "  </thead>\n",
       "  <tbody>\n",
       "    <tr>\n",
       "      <td>0</td>\n",
       "      <td>5136-SB-0678</td>\n",
       "      <td>SL331500</td>\n",
       "      <td>1130</td>\n",
       "      <td>1130_1</td>\n",
       "      <td>1130_3</td>\n",
       "      <td>1130_2</td>\n",
       "      <td>1</td>\n",
       "      <td>metopic</td>\n",
       "    </tr>\n",
       "    <tr>\n",
       "      <td>1</td>\n",
       "      <td>5136-SB-0679</td>\n",
       "      <td>SL331501</td>\n",
       "      <td>1130</td>\n",
       "      <td>1130_2</td>\n",
       "      <td>0</td>\n",
       "      <td>0</td>\n",
       "      <td>2</td>\n",
       "      <td>U</td>\n",
       "    </tr>\n",
       "    <tr>\n",
       "      <td>2</td>\n",
       "      <td>5136-SB-0680</td>\n",
       "      <td>SL331502</td>\n",
       "      <td>1130</td>\n",
       "      <td>1130_3</td>\n",
       "      <td>0</td>\n",
       "      <td>0</td>\n",
       "      <td>1</td>\n",
       "      <td>metopic</td>\n",
       "    </tr>\n",
       "    <tr>\n",
       "      <td>3</td>\n",
       "      <td>5136-SB-0663</td>\n",
       "      <td>SL331485</td>\n",
       "      <td>1225</td>\n",
       "      <td>1225_1</td>\n",
       "      <td>1225_3</td>\n",
       "      <td>1225_2</td>\n",
       "      <td>1</td>\n",
       "      <td>metopic</td>\n",
       "    </tr>\n",
       "    <tr>\n",
       "      <td>4</td>\n",
       "      <td>5136-SB-0664</td>\n",
       "      <td>SL331486</td>\n",
       "      <td>1225</td>\n",
       "      <td>1225_2</td>\n",
       "      <td>0</td>\n",
       "      <td>0</td>\n",
       "      <td>2</td>\n",
       "      <td>U</td>\n",
       "    </tr>\n",
       "  </tbody>\n",
       "</table>\n",
       "</div>"
      ],
      "text/plain": [
       "         DRC_ID      SLID  Family Individual  Father  Mother Sex  \\\n",
       "0  5136-SB-0678  SL331500    1130     1130_1  1130_3  1130_2   1   \n",
       "1  5136-SB-0679  SL331501    1130     1130_2       0       0   2   \n",
       "2  5136-SB-0680  SL331502    1130     1130_3       0       0   1   \n",
       "3  5136-SB-0663  SL331485    1225     1225_1  1225_3  1225_2   1   \n",
       "4  5136-SB-0664  SL331486    1225     1225_2       0       0   2   \n",
       "\n",
       "  Affected_status  \n",
       "0         metopic  \n",
       "1               U  \n",
       "2         metopic  \n",
       "3         metopic  \n",
       "4               U  "
      ]
     },
     "execution_count": 206,
     "metadata": {},
     "output_type": "execute_result"
    }
   ],
   "source": [
    "comp_met.head()"
   ]
  },
  {
   "cell_type": "code",
   "execution_count": 208,
   "metadata": {},
   "outputs": [
    {
     "data": {
      "text/html": [
       "<div>\n",
       "<style scoped>\n",
       "    .dataframe tbody tr th:only-of-type {\n",
       "        vertical-align: middle;\n",
       "    }\n",
       "\n",
       "    .dataframe tbody tr th {\n",
       "        vertical-align: top;\n",
       "    }\n",
       "\n",
       "    .dataframe thead th {\n",
       "        text-align: right;\n",
       "    }\n",
       "</style>\n",
       "<table border=\"1\" class=\"dataframe\">\n",
       "  <thead>\n",
       "    <tr style=\"text-align: right;\">\n",
       "      <th></th>\n",
       "      <th>specimen_id</th>\n",
       "      <th>cavatica_id</th>\n",
       "      <th>library_id</th>\n",
       "      <th>ucd_id</th>\n",
       "      <th>father</th>\n",
       "      <th>mother</th>\n",
       "      <th>sex</th>\n",
       "      <th>aff</th>\n",
       "    </tr>\n",
       "  </thead>\n",
       "  <tbody>\n",
       "    <tr>\n",
       "      <td>0</td>\n",
       "      <td>5136-SB-0006</td>\n",
       "      <td>5d826033e4b0950c3fd90e83</td>\n",
       "      <td>SL340228</td>\n",
       "      <td>8013_3</td>\n",
       "      <td>0</td>\n",
       "      <td>0</td>\n",
       "      <td>1.0</td>\n",
       "      <td>U</td>\n",
       "    </tr>\n",
       "    <tr>\n",
       "      <td>1</td>\n",
       "      <td>5136-SB-0013</td>\n",
       "      <td>5d82602fe4b0950c3fd8e2c1</td>\n",
       "      <td>SL340235</td>\n",
       "      <td>8049_1</td>\n",
       "      <td>8049_3</td>\n",
       "      <td>8049_2</td>\n",
       "      <td>1.0</td>\n",
       "      <td>metopic</td>\n",
       "    </tr>\n",
       "    <tr>\n",
       "      <td>2</td>\n",
       "      <td>5136-SB-0015</td>\n",
       "      <td>5d826033e4b0950c3fd90e67</td>\n",
       "      <td>SL340237</td>\n",
       "      <td>8049_3</td>\n",
       "      <td>0</td>\n",
       "      <td>0</td>\n",
       "      <td>1.0</td>\n",
       "      <td>U</td>\n",
       "    </tr>\n",
       "    <tr>\n",
       "      <td>3</td>\n",
       "      <td>5136-SB-0017</td>\n",
       "      <td>5d82602fe4b0950c3fd8e7d0</td>\n",
       "      <td>SL340239</td>\n",
       "      <td>8051_2</td>\n",
       "      <td>0</td>\n",
       "      <td>0</td>\n",
       "      <td>2.0</td>\n",
       "      <td>U</td>\n",
       "    </tr>\n",
       "    <tr>\n",
       "      <td>6</td>\n",
       "      <td>5136-SB-0022</td>\n",
       "      <td>5d82602fe4b0950c3fd8e2c7</td>\n",
       "      <td>SL340244</td>\n",
       "      <td>8057_1</td>\n",
       "      <td>8057_3</td>\n",
       "      <td>8057_2</td>\n",
       "      <td>1.0</td>\n",
       "      <td>metopic</td>\n",
       "    </tr>\n",
       "  </tbody>\n",
       "</table>\n",
       "</div>"
      ],
      "text/plain": [
       "    specimen_id               cavatica_id library_id  ucd_id  father  mother  \\\n",
       "0  5136-SB-0006  5d826033e4b0950c3fd90e83   SL340228  8013_3       0       0   \n",
       "1  5136-SB-0013  5d82602fe4b0950c3fd8e2c1   SL340235  8049_1  8049_3  8049_2   \n",
       "2  5136-SB-0015  5d826033e4b0950c3fd90e67   SL340237  8049_3       0       0   \n",
       "3  5136-SB-0017  5d82602fe4b0950c3fd8e7d0   SL340239  8051_2       0       0   \n",
       "6  5136-SB-0022  5d82602fe4b0950c3fd8e2c7   SL340244  8057_1  8057_3  8057_2   \n",
       "\n",
       "   sex      aff  \n",
       "0  1.0        U  \n",
       "1  1.0  metopic  \n",
       "2  1.0        U  \n",
       "3  2.0        U  \n",
       "6  1.0  metopic  "
      ]
     },
     "execution_count": 208,
     "metadata": {},
     "output_type": "execute_result"
    }
   ],
   "source": [
    "new_filtered_df.head()"
   ]
  },
  {
   "cell_type": "code",
   "execution_count": 222,
   "metadata": {},
   "outputs": [
    {
     "name": "stdout",
     "output_type": "stream",
     "text": [
      "set()\n",
      "{'5136-SB-0619'}\n",
      "           DRC_ID      SLID  Family     Individual   Father   Mother Sex  \\\n",
      "115  5136-SB-0619  SL331463   11004  11004_1_osteo  11004_3  11004_2   1   \n",
      "\n",
      "    Affected_status  \n",
      "115         metopic  \n",
      "set()\n",
      "{'SL331463'}\n",
      "           DRC_ID      SLID  Family     Individual   Father   Mother Sex  \\\n",
      "115  5136-SB-0619  SL331463   11004  11004_1_osteo  11004_3  11004_2   1   \n",
      "\n",
      "    Affected_status  \n",
      "115         metopic  \n"
     ]
    }
   ],
   "source": [
    "\n",
    "print(set(new_filtered_df['specimen_id'].to_list()) - set(comp_met['DRC_ID'].to_list()))\n",
    "print(set(comp_met['DRC_ID'].to_list()) - set(new_filtered_df['specimen_id'].to_list()))\n",
    "print(comp_met[comp_met['DRC_ID']=='5136-SB-0619'])\n",
    "\n",
    "\n",
    "print(set(new_filtered_df['library_id'].to_list()) - set(comp_met['SLID'].to_list()))\n",
    "print(set(comp_met['SLID'].to_list()) - set(new_filtered_df['library_id'].to_list()))\n",
    "print(comp_met[comp_met['SLID']=='SL331463'])\n"
   ]
  },
  {
   "cell_type": "markdown",
   "metadata": {},
   "source": [
    "- So this confirms that the data being used matches what was seen and the NIH data is missing the original or second sequeincing for `11004_1_osteo`"
   ]
  },
  {
   "cell_type": "markdown",
   "metadata": {},
   "source": [
    "- lets get the trio counts and what not just to confirm\n",
    "\n",
    "- In order to complete this analysis it would be of interest to add the information from the colored file from Dr. Boyd to the NIH data where it is missing.\n",
    "    - TODO: THIS WILL BE COMPLETED BELOW\n"
   ]
  }
 ],
 "metadata": {
  "kernelspec": {
   "display_name": "Python 3",
   "language": "python",
   "name": "python3"
  },
  "language_info": {
   "codemirror_mode": {
    "name": "ipython",
    "version": 3
   },
   "file_extension": ".py",
   "mimetype": "text/x-python",
   "name": "python",
   "nbconvert_exporter": "python",
   "pygments_lexer": "ipython3",
   "version": "3.7.6"
  }
 },
 "nbformat": 4,
 "nbformat_minor": 4
}
